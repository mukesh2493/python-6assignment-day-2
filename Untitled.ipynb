{
 "cells": [
  {
   "cell_type": "code",
   "execution_count": null,
   "metadata": {},
   "outputs": [],
   "source": [
    "#what is python?\n",
    "ans-\n",
    "Python is an interpreted, object-oriented, high-level \n",
    "programming language with dynamic semantics. \n",
    "Its high-level built in data structures, \n",
    "combined with dynamic typing and dynamic binding,\n",
    "make it very attractive for Rapid Application Development, \n",
    "as well as for use as a scripting or glue language to connect \n",
    "existing components together.\n",
    "\n",
    "#what are the ways to install python in your pc?\n",
    "ans-\n",
    "Step 1: Download the Python 3 Installer. \n",
    "        Open a browser window and navigate to the Download page for \n",
    "        Windows at python.org. ...\n",
    "Step 2: Run the Installer. Once you have chosen and downloaded an installer, \n",
    "        simply run it by double-clicking on the downloaded file.\n",
    "        \n",
    "#what are code environments ? types?\n",
    "ans-\n",
    "is a code envorment is a place which can write down your programe ,\n",
    "compile your code ,output your code all thinks in one place \n",
    "Types-\n",
    "1.Text Editors \n",
    "2.full IDEs\n",
    "3.Notebook Environment"
   ]
  }
 ],
 "metadata": {
  "kernelspec": {
   "display_name": "Python 3",
   "language": "python",
   "name": "python3"
  },
  "language_info": {
   "codemirror_mode": {
    "name": "ipython",
    "version": 3
   },
   "file_extension": ".py",
   "mimetype": "text/x-python",
   "name": "python",
   "nbconvert_exporter": "python",
   "pygments_lexer": "ipython3",
   "version": "3.7.6"
  }
 },
 "nbformat": 4,
 "nbformat_minor": 4
}

{
 "cells": [
  {
   "cell_type": "markdown",
   "metadata": {},
   "source": [
    "                                   ... Assignment day 5\n",
    "    \n",
    "    assignment 1\n",
    "    \n",
    "    sort the data in increasing order but all zeros  present should be move to right hand side?\n",
    "    input :\n",
    "        [0,1,2,10,4,1,0,56,2,0,1,3,0,56,0,4]\n",
    "    output:\n",
    "        [1,1,1,2,2,3,4,4,10,56,56,0,0,0,0]...\n",
    "\n"
   ]
  },
  {
   "cell_type": "code",
   "execution_count": 11,
   "metadata": {},
   "outputs": [
    {
     "name": "stdout",
     "output_type": "stream",
     "text": [
      "Enter the number seperated by coma : 0,1,2,10,4,1,0,56,2,0,1,3,0,56,0,4\n",
      "[1, 1, 1, 2, 2, 3, 4, 4, 10, 56, 56, 0, 0, 0, 0, 0]\n"
     ]
    }
   ],
   "source": [
    "inputlststr=input(\"Enter the number seperated by coma : \").split(\",\")\n",
    "\n",
    "inputlstint=[]\n",
    "for i in inputlststr:\n",
    "    inputlstint.append(int(i))\n",
    "maximum=max(inputlstint)\n",
    "\n",
    "def keyfunc(num):\n",
    "    if num == 0:\n",
    "        return(maximum+1)\n",
    "    else:\n",
    "        return(num)\n",
    "inputlstint.sort(key=keyfunc)\n",
    "print(inputlstint)"
   ]
  },
  {
   "cell_type": "code",
   "execution_count": null,
   "metadata": {},
   "outputs": [],
   "source": [
    "...assignment 2 day 5\n",
    "\n",
    "    list1=[10,20,40,60,70,80]sorted list\n",
    "    list2=[5,15,25,35,45,60] sorted list\n",
    "    merge these two sorted list to produce one sorted list , \n",
    "    but use only one loop either while loop or for only one time. ...\n",
    "    \n",
    "    \n",
    "\n",
    "\n",
    "\n",
    "firstlststr=input(\"Enter first number sepersted by coma : \").split(\",\")\n",
    "firstlstnum=[]\n",
    "for i in firstlststr:\n",
    "    firstlstnum.append(int(i))\n",
    "    \n",
    "secondlststr=(\"Enter second number sepersted by coma : \").split(\",\")\n",
    "\n",
    "secondlstnum=[]\n",
    "\n",
    "for i in secondlststr:\n",
    "    secondlstnum.append(int(i))\n",
    "    \n",
    "thirdlst=[]\n",
    "indexfirst=0\n",
    "indexsecond=0\n",
    "\n",
    "while indexfirst<len(firstlsnum) and indexsecond<len(secondlstnum):\n",
    "    if firstlstnum[indexfirst] < secondlstnum[indexsecond]:\n",
    "        thirdlst.append(firstlstnum[indexfirst])\n",
    "        indexfirst+1\n",
    "    elif firstlstnum[indexfirst] > secondlstnum[indexsecond]:\n",
    "        thirdlst.append(secondlstnum[indexsecond])\n",
    "        indexsecond+=1\n",
    "    else:\n",
    "        thirdlst.append(firstlstnum[indexfirst])\n",
    "        thirdlst.append(secondlstnum[indexsecond])\n",
    "        indexfirst+=1\n",
    "        indexsecond+=1\n",
    "    if indexfirst!= len(firstlstnum):\n",
    "        thirdlst+=firstlstnum[indexfirst:]\n",
    "    else:\n",
    "        thirdlst+=secondlstnum[indexsecond:]\n",
    "    print(thirdlst)\n",
    "    \n"
   ]
  },
  {
   "cell_type": "code",
   "execution_count": null,
   "metadata": {},
   "outputs": [],
   "source": []
  }
 ],
 "metadata": {
  "kernelspec": {
   "display_name": "Python 3",
   "language": "python",
   "name": "python3"
  },
  "language_info": {
   "codemirror_mode": {
    "name": "ipython",
    "version": 3
   },
   "file_extension": ".py",
   "mimetype": "text/x-python",
   "name": "python",
   "nbconvert_exporter": "python",
   "pygments_lexer": "ipython3",
   "version": "3.7.6"
  }
 },
 "nbformat": 4,
 "nbformat_minor": 4
}

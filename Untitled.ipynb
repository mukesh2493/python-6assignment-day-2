{
 "cells": [
  {
   "cell_type": "code",
   "execution_count": null,
   "metadata": {},
   "outputs": [],
   "source": [
    "\"\"\" assignments \n",
    "1.\"find all occurrence of substring in the given string\"\n",
    "    \"what we think we become ; we are python programmer\" \n",
    "    print index value \n",
    "2. Assignment2 -- islower()---> with different kind of strings Isupper()\"\"\""
   ]
  },
  {
   "cell_type": "code",
   "execution_count": 1,
   "metadata": {},
   "outputs": [
    {
     "name": "stdout",
     "output_type": "stream",
     "text": [
      "initial_string:  what we think we become ; we are python programmer \n",
      "subtring :  we are python programmer\n",
      "resultant positins [26]\n"
     ]
    }
   ],
   "source": [
    "ini_string = 'what we think we become ; we are python programmer'\n",
    "sub_string = 'we are python programmer'\n",
    "\n",
    "print(\"initial_string: \",ini_string,\"\\nsubtring : \", sub_string)\n",
    "\n",
    "res=[]\n",
    "res=[i for i in range(len(ini_string))\n",
    "    if ini_string.startswith(sub_string,i)]\n",
    "print(\"resultant positins\",str(res))"
   ]
  },
  {
   "cell_type": "code",
   "execution_count": 3,
   "metadata": {},
   "outputs": [
    {
     "name": "stdout",
     "output_type": "stream",
     "text": [
      "we are in the endgame now\n"
     ]
    }
   ],
   "source": [
    "#string.lower()\n",
    "\n",
    "avengers ='WE ARE IN THE ENDGAME NOW'\n",
    "print(avengers.lower())"
   ]
  },
  {
   "cell_type": "code",
   "execution_count": 4,
   "metadata": {},
   "outputs": [
    {
     "name": "stdout",
     "output_type": "stream",
     "text": [
      "False\n"
     ]
    }
   ],
   "source": [
    "ravan='Me sab se mahan hoo'\n",
    "print(ravan.islower())"
   ]
  },
  {
   "cell_type": "code",
   "execution_count": 7,
   "metadata": {},
   "outputs": [
    {
     "name": "stdout",
     "output_type": "stream",
     "text": [
      "we are dc fans\n"
     ]
    }
   ],
   "source": [
    "super='WE ARE DC FANS'\n",
    "print(super.lower())"
   ]
  },
  {
   "cell_type": "code",
   "execution_count": 9,
   "metadata": {},
   "outputs": [
    {
     "name": "stdout",
     "output_type": "stream",
     "text": [
      "True\n"
     ]
    }
   ],
   "source": [
    "tony='i am ironman'\n",
    "print(tony.islower())"
   ]
  },
  {
   "cell_type": "code",
   "execution_count": 10,
   "metadata": {},
   "outputs": [
    {
     "name": "stdout",
     "output_type": "stream",
     "text": [
      "True\n"
     ]
    }
   ],
   "source": [
    "#isupper\n",
    "\n",
    "str_name='WELCOME'\n",
    "print(str_name.isupper())"
   ]
  },
  {
   "cell_type": "code",
   "execution_count": 11,
   "metadata": {},
   "outputs": [
    {
     "name": "stdout",
     "output_type": "stream",
     "text": [
      "True\n"
     ]
    }
   ],
   "source": [
    "str_name = 'WELCOME PYTHON USER'\n",
    "print(str_name.isupper())"
   ]
  },
  {
   "cell_type": "code",
   "execution_count": 12,
   "metadata": {},
   "outputs": [
    {
     "name": "stdout",
     "output_type": "stream",
     "text": [
      "WELCOME PYTHON PROGRAMMER\n"
     ]
    }
   ],
   "source": [
    "str_name = 'welcome python programmer'\n",
    "print(str_name.upper())"
   ]
  },
  {
   "cell_type": "code",
   "execution_count": 13,
   "metadata": {},
   "outputs": [
    {
     "name": "stdout",
     "output_type": "stream",
     "text": [
      "False\n"
     ]
    }
   ],
   "source": [
    "str_name = 'welcome python programmer'\n",
    "print(str_name.isupper())"
   ]
  },
  {
   "cell_type": "code",
   "execution_count": null,
   "metadata": {},
   "outputs": [],
   "source": []
  }
 ],
 "metadata": {
  "kernelspec": {
   "display_name": "Python 3",
   "language": "python",
   "name": "python3"
  },
  "language_info": {
   "codemirror_mode": {
    "name": "ipython",
    "version": 3
   },
   "file_extension": ".py",
   "mimetype": "text/x-python",
   "name": "python",
   "nbconvert_exporter": "python",
   "pygments_lexer": "ipython3",
   "version": "3.7.6"
  }
 },
 "nbformat": 4,
 "nbformat_minor": 4
}

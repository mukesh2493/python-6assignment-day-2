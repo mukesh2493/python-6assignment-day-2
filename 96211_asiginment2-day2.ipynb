{
 "cells": [
  {
   "cell_type": "markdown",
   "metadata": {},
   "source": [
    "# program to tell whether the altitude is safe for landing or not with appropriate messages"
   ]
  },
  {
   "cell_type": "code",
   "execution_count": 7,
   "metadata": {},
   "outputs": [
    {
     "name": "stdout",
     "output_type": "stream",
     "text": [
      "Pilot,Please enter your current altitude 4500\n",
      "your altitude is 4500.0 :it's not appropriate.Please bring it further down\n"
     ]
    }
   ],
   "source": [
    "altitude = float(input(\"Pilot,Please enter your current altitude \"))\n",
    "if altitude == 1000:\n",
    "    print(\"your altitude is\",altitude,\": it's appropriate and you can land safely\")\n",
    "elif altitude>1000 and altitude<5000:\n",
    "    print(\"your altitude is\",altitude, \":it's not appropriate.Please bring it further down\")\n",
    "else:\n",
    "    print(\"your altitude is\",altitude,\":it's not appropriate.Please take a turn and attempt later\")\n"
   ]
  },
  {
   "cell_type": "code",
   "execution_count": null,
   "metadata": {},
   "outputs": [],
   "source": []
  },
  {
   "cell_type": "code",
   "execution_count": null,
   "metadata": {},
   "outputs": [],
   "source": []
  },
  {
   "cell_type": "code",
   "execution_count": null,
   "metadata": {},
   "outputs": [],
   "source": []
  }
 ],
 "metadata": {
  "kernelspec": {
   "display_name": "Python 3",
   "language": "python",
   "name": "python3"
  },
  "language_info": {
   "codemirror_mode": {
    "name": "ipython",
    "version": 3
   },
   "file_extension": ".py",
   "mimetype": "text/x-python",
   "name": "python",
   "nbconvert_exporter": "python",
   "pygments_lexer": "ipython3",
   "version": "3.7.6"
  }
 },
 "nbformat": 4,
 "nbformat_minor": 4
}
